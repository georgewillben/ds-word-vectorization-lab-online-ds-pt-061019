{
 "cells": [
  {
   "cell_type": "markdown",
   "metadata": {},
   "source": [
    "Some of the code in this lab was copied from the solution at https://github.com/learn-co-curriculum/ds-word-vectorization-lab/tree/solution"
   ]
  },
  {
   "cell_type": "markdown",
   "metadata": {},
   "source": [
    "# Word Vectorization Lab\n",
    "\n",
    "## Problem Statement\n",
    "\n",
    "In this lab, we'll learn how totokenize and vectorize text documents, create an use a Bag of Words, and identify words unique to individual documents using TF-IDF Vectorization. \n",
    "\n",
    "## Objectives\n",
    "\n",
    "* Tokenize a corpus of words and identify the different choices to be made while parsing them. \n",
    "* Use a Count Vectorization strategy to create a Bag of Words\n",
    "* Use TF-IDF Vectorization with multiple documents to identify words that are important/unique to certain documents. \n",
    "\n",
    "\n",
    "\n",
    "Run the cell below to import everything necessary for this lab.  "
   ]
  },
  {
   "cell_type": "code",
   "execution_count": 95,
   "metadata": {},
   "outputs": [],
   "source": [
    "import pandas as pd\n",
    "import numpy as np\n",
    "from mpl_toolkits.mplot3d import Axes3D\n",
    "import matplotlib.pyplot as plt\n",
    "%matplotlib inline\n",
    "from sklearn.manifold import TSNE\n",
    "from nltk.tokenize import word_tokenize\n",
    "np.random.seed(0)"
   ]
  },
  {
   "cell_type": "markdown",
   "metadata": {},
   "source": [
    "### Our Corpus\n",
    "\n",
    "In this lab, we'll be working with 20 different documents, each containing song lyrics from either Garth Brooks or Kendrick Lamar albums.  \n",
    "\n",
    "The songs are contained within the `data` subdirectory, contained within the same folder as this lab.  Each song is stored in a single file, with files ranging from `song1.txt` to `song20.txt`.  \n",
    "\n",
    "To make it easy to read in all of the documents, use a list comprehension to create a list containing the name of every single song file in the cell below. "
   ]
  },
  {
   "cell_type": "code",
   "execution_count": 96,
   "metadata": {},
   "outputs": [
    {
     "data": {
      "text/plain": [
       "['data/song1.txt',\n",
       " 'data/song2.txt',\n",
       " 'data/song3.txt',\n",
       " 'data/song4.txt',\n",
       " 'data/song5.txt',\n",
       " 'data/song6.txt',\n",
       " 'data/song7.txt',\n",
       " 'data/song8.txt',\n",
       " 'data/song9.txt',\n",
       " 'data/song10.txt',\n",
       " 'data/song11.txt',\n",
       " 'data/song12.txt',\n",
       " 'data/song13.txt',\n",
       " 'data/song14.txt',\n",
       " 'data/song15.txt',\n",
       " 'data/song16.txt',\n",
       " 'data/song17.txt',\n",
       " 'data/song18.txt',\n",
       " 'data/song19.txt',\n",
       " 'data/song20.txt']"
      ]
     },
     "execution_count": 96,
     "metadata": {},
     "output_type": "execute_result"
    }
   ],
   "source": [
    "filenames = [\"data/song{}.txt\".format(n+1) for n in range(20)]\n",
    "filenames"
   ]
  },
  {
   "cell_type": "markdown",
   "metadata": {},
   "source": [
    "Next, let's import a single song to see what our text looks like so that we can make sure we clean and tokenize it correctly. \n",
    "\n",
    "In the cell below, read in and print out the lyrics from `song11.txt`.  Use vanilla python, no pandas needed.  "
   ]
  },
  {
   "cell_type": "code",
   "execution_count": 98,
   "metadata": {},
   "outputs": [],
   "source": [
    "# read in song11.txt here\n",
    "song11 = open('data/song11.txt').readlines()"
   ]
  },
  {
   "cell_type": "code",
   "execution_count": 99,
   "metadata": {
    "scrolled": true
   },
   "outputs": [
    {
     "data": {
      "text/plain": [
       "['[Kendrick Lamar:]\\n',\n",
       " \"Love, let's talk about love\\n\",\n",
       " 'Is it anything and everything you hoped for?\\n',\n",
       " 'Or do the feeling haunt you?\\n',\n",
       " 'I know the feeling haunt you\\n',\n",
       " '[SZA:]\\n',\n",
       " 'This may be the night that my dreams might let me know\\n',\n",
       " 'All the stars approach you, all the stars approach you, all the stars approach you\\n',\n",
       " 'This may be the night that my dreams might let me know\\n',\n",
       " 'All the stars are closer, all the stars are closer, all the stars are closer\\n',\n",
       " '[Kendrick Lamar:]\\n',\n",
       " \"Tell me what you gon' do to me\\n\",\n",
       " \"Confrontation ain't nothin' new to me\\n\",\n",
       " 'You can bring a bullet, bring a sword, bring a morgue\\n',\n",
       " \"But you can't bring the truth to me\\n\",\n",
       " 'Fuck you and all your expectations\\n',\n",
       " \"I don't even want your congratulations\\n\",\n",
       " 'I recognize your false confidence\\n',\n",
       " 'And calculated promises all in your conversation\\n',\n",
       " 'I hate people that feel entitled\\n',\n",
       " \"Look at me crazy 'cause I ain't invite you\\n\",\n",
       " 'Oh, you important?\\n',\n",
       " \"You the moral to the story? You endorsin'?\\n\",\n",
       " \"Motherfucker, I don't even like you\\n\",\n",
       " \"Corrupt a man's heart with a gift\\n\",\n",
       " \"That's how you find out who you dealin' with\\n\",\n",
       " \"A small percentage who I'm buildin' with\\n\",\n",
       " \"I want the credit if I'm losin' or I'm winnin'\\n\",\n",
       " \"On my momma, that's the realest shit\\n\",\n",
       " \"Love, let's talk about love\\n\",\n",
       " 'Is it anything and everything you hoped for?\\n',\n",
       " 'Or do the feeling haunt you?\\n',\n",
       " 'I know the feeling haunt you\\n',\n",
       " '[SZA:]\\n',\n",
       " 'This may be the night that my dreams might let me know\\n',\n",
       " 'All the stars approach you, all the stars approach you, all the stars approach you\\n',\n",
       " 'This may be the night that my dreams might let me know\\n',\n",
       " 'All the stars are closer, all the stars are closer, all the stars are closer\\n',\n",
       " 'Skin covered in ego\\n',\n",
       " \"Get to talkin' like ya involved, like a rebound\\n\",\n",
       " 'Got no end game, got no reason\\n',\n",
       " \"Got to stay down, it's the way that you making me feel\\n\",\n",
       " 'Like nobody ever loved me like you do, you do\\n',\n",
       " \"You kinda feeling like you're tryna get away from me\\n\",\n",
       " \"If you do, I won't move\\n\",\n",
       " \"I ain't just cryin' for no reason\\n\",\n",
       " \"I ain't just prayin' for no reason\\n\",\n",
       " 'I give thanks for the days, for the hours\\n',\n",
       " \"And another way, another life breathin'\\n\",\n",
       " \"I did it all 'cause it feel good\\n\",\n",
       " \"I wouldn't do it at all if it feel bad\\n\",\n",
       " \"Better live your life, we're runnin' out of time\\n\",\n",
       " '[Kendrick Lamar & SZA:]\\n',\n",
       " \"Love, let's talk about love\\n\",\n",
       " 'Is it anything and everything you hoped for?\\n',\n",
       " 'Or do the feeling haunt you?\\n',\n",
       " 'I know the feeling haunt you\\n',\n",
       " '[SZA:]\\n',\n",
       " 'This may be the night that my dreams might let me know\\n',\n",
       " 'All the stars approach you, all the stars approach you, all the stars approach you\\n',\n",
       " 'This may be the night that my dreams might let me know\\n',\n",
       " 'All the stars are closer, all the stars are closer, all the stars are closer\\n']"
      ]
     },
     "execution_count": 99,
     "metadata": {},
     "output_type": "execute_result"
    }
   ],
   "source": [
    "song11"
   ]
  },
  {
   "cell_type": "markdown",
   "metadata": {},
   "source": [
    "### Tokenizing our Data\n",
    "\n",
    "Before we can create a Bag of Words or vectorize each document, we need to clean it up and split each song into an array of individual words.  Computers are very particular about strings. If we tokenized our data in it's current state, we would run into the following problems:\n",
    "\n",
    "1. Counting things that aren't actually words.  In the example above, `\"[Kendrick]\"` is a note specifying who is speaking, not a lyric contained in the actual song, so it should be removed.  \n",
    "1. Punctuation and capitalization would mess up our word counts.  To the python interpreter, `love`, `Love`, `Love?`, and `Love\\n` are all unique words, and would all be counted separately.  We need to remove punctuation and capitalization, so that all words will be counted correctly. \n",
    "\n",
    "Consider the following sentences from the example above:\n",
    "\n",
    "`\"Love, let's talk about love\\n\", 'Is it anything and everything you hoped for?\\n'`\n",
    "\n",
    "After tokenization, this should look like:\n",
    "\n",
    "`['love', 'let's', 'talk', 'about', 'love', 'is', 'it', 'anything', 'and', 'everything', 'you', 'hoped', 'for']`\n",
    "\n",
    "Tokenization is pretty tedious if we handle it manually, and would probably make use of Regular Expressions, which is outside the scope of this lab.  In order to keep this lab moving, we'll use a library function to clean and tokenize our data so that we can move onto vectorization.  \n",
    "\n",
    "Tokenization is a required task for just about any Natural Language Processing (NLP) task, so great industry-standard tools exist to tokenize things for us, so that we can spend our time on more important tasks without getting bogged down hunting every special symbol or punctuation in a massive dataset. For this lab, we'll make use of the tokenizer in the amazing `nltk` library, which is short for _Natural Language Tool Kit_.\n",
    "\n",
    "**_NOTE:_** NLTK requires extra installation methods to be run the first time certain methods are used.  If `nltk` throws you an error about needing to install additional packages, follow the instructions in the error message to install the dependencies, and then rerun the cell.  \n",
    "\n",
    "> In this case, you may need to run the following code:\n",
    "``` python\n",
    "import nltk\n",
    "nltk.download('punkt')\n",
    "``` \n",
    "> to download the Punkt sentence tokenizer.\n",
    "\n",
    "Before we tokenize our songs, we'll do only a small manual bit of cleaning.  In the cell below, write a function that allows us to remove lines that have `['artist names']` in it, to ensure that our song files contain only lyrics that are actually in the song. For the lines that remain, make every word lowercase, remove newline characters `\\n`, and any of the following punctuation marks: `\",.'?!\"`\n",
    "\n",
    "Test the function on `test_song` to show that it has successfully removed `'[Kendrick Lamar:]'` and other instances of artist names from the song and returned it.  "
   ]
  },
  {
   "cell_type": "code",
   "execution_count": 100,
   "metadata": {
    "scrolled": true
   },
   "outputs": [
    {
     "name": "stderr",
     "output_type": "stream",
     "text": [
      "[nltk_data] Downloading package punkt to\n",
      "[nltk_data]     C:\\Users\\zasz\\AppData\\Roaming\\nltk_data...\n",
      "[nltk_data]   Package punkt is already up-to-date!\n"
     ]
    },
    {
     "data": {
      "text/plain": [
       "True"
      ]
     },
     "execution_count": 100,
     "metadata": {},
     "output_type": "execute_result"
    }
   ],
   "source": [
    "import nltk\n",
    "nltk.download('punkt')"
   ]
  },
  {
   "cell_type": "code",
   "execution_count": 101,
   "metadata": {},
   "outputs": [
    {
     "name": "stdout",
     "output_type": "stream",
     "text": [
      "['love lets talk about love', 'is it anything and everything you hoped for', 'or do the feeling haunt you', 'i know the feeling haunt you', 'this may be the night that my dreams might let me know', 'all the stars approach you all the stars approach you all the stars approach you', 'this may be the night that my dreams might let me know', 'all the stars are closer all the stars are closer all the stars are closer', 'tell me what you gon do to me', 'confrontation aint nothin new to me', 'you can bring a bullet bring a sword bring a morgue', 'but you cant bring the truth to me', 'fuck you and all your expectations', 'i dont even want your congratulations', 'i recognize your false confidence', 'and calculated promises all in your conversation', 'i hate people that feel entitled', 'look at me crazy cause i aint invite you', 'oh you important', 'you the moral to the story you endorsin', 'motherfucker i dont even like you', 'corrupt a mans heart with a gift', 'thats how you find out who you dealin with', 'a small percentage who im buildin with', 'i want the credit if im losin or im winnin', 'on my momma thats the realest shit', 'love lets talk about love', 'is it anything and everything you hoped for', 'or do the feeling haunt you', 'i know the feeling haunt you', 'this may be the night that my dreams might let me know', 'all the stars approach you all the stars approach you all the stars approach you', 'this may be the night that my dreams might let me know', 'all the stars are closer all the stars are closer all the stars are closer', 'skin covered in ego', 'get to talkin like ya involved like a rebound', 'got no end game got no reason', 'got to stay down its the way that you making me feel', 'like nobody ever loved me like you do you do', 'you kinda feeling like youre tryna get away from me', 'if you do i wont move', 'i aint just cryin for no reason', 'i aint just prayin for no reason', 'i give thanks for the days for the hours', 'and another way another life breathin', 'i did it all cause it feel good', 'i wouldnt do it at all if it feel bad', 'better live your life were runnin out of time', ' lamar & ', 'love lets talk about love', 'is it anything and everything you hoped for', 'or do the feeling haunt you', 'i know the feeling haunt you', 'this may be the night that my dreams might let me know', 'all the stars approach you all the stars approach you all the stars approach you', 'this may be the night that my dreams might let me know', 'all the stars are closer all the stars are closer all the stars are closer']\n"
     ]
    }
   ],
   "source": [
    "# some of the code in this cell was copied from the solution at https://github.com/learn-co-curriculum/ds-word-vectorization-lab/tree/solution\n",
    "def clean_song(song):\n",
    "    \"\"\"Removes punctuation and new line symbols. Makes everything lower case\"\"\"\n",
    "    \n",
    "    # list for finished song\n",
    "    processed_song = []\n",
    "    \n",
    "    for line in song: \n",
    "    \n",
    "        # remove punctuation\n",
    "        for i in \",.'?!\\n\":\n",
    "            line = line.replace(i,\"\")\n",
    " \n",
    "        # lowercase\n",
    "        line = line.lower()\n",
    "        \n",
    "    \n",
    "    \n",
    "        # remove artists names\n",
    "        for word in line.split(\" \"):\n",
    "            if (\"[\" in word) | (\"]\" in word):\n",
    "                line = line.replace(word,\"\")\n",
    "        if (line == \"\") | (line == \" \"):\n",
    "            continue\n",
    "        \n",
    "      \n",
    "        #append to processed song\n",
    "        processed_song.append(line)\n",
    "    \n",
    "    return processed_song\n",
    "    \n",
    "song_without_brackets = clean_song(song11)\n",
    "song_without_brackets\n",
    "\n",
    "print(song_without_brackets)\n"
   ]
  },
  {
   "cell_type": "markdown",
   "metadata": {},
   "source": [
    "Great. Now, write a function that takes in songs that have had their brackets removed, joins all of the lines into a single string, and then uses `tokenize()` on it to get a fully tokenized version of the song.  Test this funtion on `song_without_brackets` to ensure that the function works. "
   ]
  },
  {
   "cell_type": "code",
   "execution_count": 102,
   "metadata": {},
   "outputs": [
    {
     "data": {
      "text/plain": [
       "['love',\n",
       " 'lets',\n",
       " 'talk',\n",
       " 'about',\n",
       " 'love',\n",
       " 'is',\n",
       " 'it',\n",
       " 'anything',\n",
       " 'and',\n",
       " 'everything']"
      ]
     },
     "execution_count": 102,
     "metadata": {},
     "output_type": "execute_result"
    }
   ],
   "source": [
    "def tokenize(song):\n",
    "    \"\"\"Takes in a pre-processed song,\n",
    "    joins all lines into a single string,\n",
    "    and then returns a tokenized version of the song\"\"\"\n",
    "    \n",
    "    # combine the list of lines into a single string\n",
    "    string_song = \" \".join(song)\n",
    "    \n",
    "    # return tokenized song\n",
    "    return word_tokenize(string_song)\n",
    "    \n",
    "\n",
    "\n",
    "tokenized_test_song = tokenize(song_without_brackets)\n",
    "tokenized_test_song[:10]"
   ]
  },
  {
   "cell_type": "markdown",
   "metadata": {},
   "source": [
    "Great! Now that we know the ability to tokenize our songs, we can move onto Vectorization. \n",
    "\n",
    "### Count Vectorization\n",
    "\n",
    "Machine Learning algorithms don't understand strings.  However, they do understand math, which means they understand vectors and matrices.  By **_Vectorizing_** the text, we just convert the entire text into a vector, where each element in the vector represents a different word.  The vector is the length of the entire vocabulary--usually, every word that occurs in the English language, or at least every word that appears in our corpus.  Any given sentence can then be represented as a vector where all the vector is 1 (or some other value) for each time that word appears in the sentence. \n",
    "\n",
    "Consider the following example: \n",
    "\n",
    "<center>\"I scream, you scream, we all scream for ice cream.\"</center>\n",
    "\n",
    "| 'aardvark' | 'apple' | [...] | 'I' | 'you' | 'scream' | 'we' | 'all' | 'for' | 'ice' | 'cream' | [...] | 'xylophone' | 'zebra' |\n",
    "|:----------:|:-------:|:-----:|:---:|:-----:|:--------:|:----:|:-----:|:-----:|:-----:|:-------:|:-----:|:-----------:|:-------:|\n",
    "|      0     |    0    |   0   |  1  |   1   |     3    |   1  |   1   |   1   |   1   |    1    |   0   |      0      |    0    |\n",
    "\n",
    "This is called a **_Sparse Representation_**, since the strong majority of the columns will have a value of 0.  Note that elements corresponding to words that do not occur in the sentence have a value of 0, while words that do appear in the sentence have a value of 1 (or 1 for each time it appears in the sentence).\n",
    "\n",
    "Alternatively, we can represent this sentence as a plain old python dictionary of word frequency counts:\n",
    "\n",
    "```python\n",
    "BoW = {\n",
    "    'I':1,\n",
    "    'you':1,\n",
    "    'scream':3,\n",
    "    'we':1,\n",
    "    'all':1,\n",
    "    'for':1,\n",
    "    'ice':1,\n",
    "    'cream':1\n",
    "}\n",
    "```\n",
    "\n",
    "Both of these are examples of **_Count Vectorization_**. They allow us to represent a sentence as a vector, with each element in the vector corresponding to how many times that word is used.\n",
    "\n",
    "#### Positional Information and Bag of Words\n",
    "\n",
    "Notice that when we vectorize a sentence this way, we lose the order that the words were in.  This is the **_Bag of Words_** approach mentioned earlier.  Note that sentences that contain the same words will create the same vectors, even if they mean different things--e.g. `'cats are scared of dogs'` and `'dogs are scared of cats'` would both produce the exact same vector, since they contain the same words.  \n",
    "\n",
    "In the cell below, create a function that takes in a tokenized, cleaned song and returns a Count Vectorized representation of it as a python dictionary. Add in an optional parameter called `vocab` that defaults to `None`. This way, if we are using a vocabulary that contains words not seen in the song, we can still use this function by passing it in to the `vocab` parameter. \n",
    "\n",
    "**_Hint:_**  Consider using a `set` object to make this easier!"
   ]
  },
  {
   "cell_type": "code",
   "execution_count": 103,
   "metadata": {},
   "outputs": [
    {
     "name": "stdout",
     "output_type": "stream",
     "text": [
      "{'the': 38, 'bullet': 1, 'mans': 1, 'its': 1, 'away': 1, 'involved': 1, '&': 1, 'life': 2, 'this': 6, 'false': 1, 'making': 1, 'way': 2, 'were': 1, 'game': 1, 'dreams': 6, 'better': 1, 'who': 2, 'haunt': 6, 'did': 1, 'even': 2, 'oh': 1, 'endorsin': 1, 'give': 1, 'may': 6, 'stars': 18, 'feeling': 7, 'tell': 1, 'look': 1, 'im': 3, 'shit': 1, 'covered': 1, 'from': 1, 'just': 2, 'talkin': 1, 'with': 3, 'no': 4, 'calculated': 1, 'winnin': 1, 'important': 1, 'might': 6, 'confidence': 1, 'another': 2, 'for': 7, 'to': 6, 'cant': 1, 'expectations': 1, 'in': 2, 'thats': 2, 'do': 8, 'about': 3, 'sword': 1, 'corrupt': 1, 'realest': 1, 'ego': 1, 'live': 1, 'lamar': 1, 'confrontation': 1, 'hours': 1, 'dont': 2, 'wouldnt': 1, 'feel': 4, 'bad': 1, 'conversation': 1, 'time': 1, 'want': 2, 'recognize': 1, 'hate': 1, 'end': 1, 'but': 1, 'and': 6, 'skin': 1, 'all': 22, 'prayin': 1, 'gon': 1, 'you': 34, 'me': 14, 'your': 5, 'ya': 1, 'new': 1, 'rebound': 1, 'like': 6, 'momma': 1, 'nothin': 1, 'love': 6, 'loved': 1, 'invite': 1, 'it': 7, 'get': 2, 'on': 1, 'promises': 1, 'can': 1, 'buildin': 1, 'days': 1, 'fuck': 1, 'if': 3, 'percentage': 1, 'lets': 3, 'runnin': 1, 'be': 6, 'know': 9, 'talk': 3, 'hoped': 3, 'or': 4, 'find': 1, 'wont': 1, 'story': 1, 'small': 1, 'credit': 1, 'at': 2, 'moral': 1, 'bring': 4, 'my': 7, 'dealin': 1, 'gift': 1, 'reason': 3, 'that': 8, 'truth': 1, 'got': 3, 'stay': 1, 'crazy': 1, 'is': 3, 'cryin': 1, 'people': 1, 'losin': 1, 'good': 1, 'entitled': 1, 'out': 2, 'nobody': 1, 'are': 9, 'closer': 9, 'heart': 1, 'i': 15, 'breathin': 1, 'let': 6, 'ever': 1, 'anything': 3, 'down': 1, 'youre': 1, 'tryna': 1, 'of': 1, 'aint': 4, 'a': 7, 'how': 1, 'everything': 3, 'thanks': 1, 'kinda': 1, 'move': 1, 'cause': 2, 'congratulations': 1, 'what': 1, 'motherfucker': 1, 'night': 6, 'approach': 9, 'morgue': 1}\n"
     ]
    }
   ],
   "source": [
    "def count_vectorize(song, vocab=None):\n",
    "    \"\"\"\n",
    "    Takes in a cleaned and tokenized song and\n",
    "    creates a python dictionary of word counts for the song.\n",
    "    Optionally takes in a vocabulary if provided.\n",
    "    \"\"\"\n",
    "    \n",
    "    \n",
    "    # set vocabulary\n",
    "    vocabulary = set(song)\n",
    "    if vocab:\n",
    "        vocabulary = set(vocab)\n",
    "        \n",
    "    # create dictionary\n",
    "    word_count = {}\n",
    "    \n",
    "    # create keys for dictionary and set all values to 0\n",
    "    for word in vocabulary:\n",
    "        word_count.update({word:0})\n",
    "        \n",
    "    # iterate through text and update word count\n",
    "    for word in song:\n",
    "        word_count[word] += 1\n",
    "        \n",
    "    return word_count\n",
    "        \n",
    "    \n",
    "\n",
    "test_vectorized = count_vectorize(tokenized_test_song)\n",
    "print(test_vectorized)"
   ]
  },
  {
   "cell_type": "markdown",
   "metadata": {},
   "source": [
    "Great! You've just successfully vectorized your first text document! Now, let's look at a more advanced type of vectorization, TF-IDF!\n",
    "\n",
    "### TF-IDF Vectorization\n",
    "\n",
    "TF-IDF stands for **_Term Frequency, Inverse Document Frequency_**.  This is a more advanced form of vectorization that weights each term in a document by how unique it is to the given document it is contained in, which allows us to summarize the contents of a document using a few key words.  If the word is used often in many other documents, it is not unique, and therefore probably not too useful if we wanted to figure out how this document is unique in relation to other documents.  Conversely, if a word is used many times in a document, but rarely in all the other documents we are considering, then it is likely a good indicator for telling us that this word is important to the document in question.  \n",
    "\n",
    "The formula TF-IDF uses to determine the weights of each term in a document is **_Term Frequency_** multipled by **_Inverse Document Frequency_**, where the formula for Term Frequency is:\n",
    "\n",
    "$$\\large Term\\ Frequency(t) = \\frac{number\\ of\\ times\\ t\\ appears\\ in\\ a\\ document} {total\\ number\\ of\\ terms\\ in\\ the\\ document} $$\n",
    "<br>\n",
    "<br>\n",
    "Complete the following function below to calculate term frequency for every term in a document.  "
   ]
  },
  {
   "cell_type": "code",
   "execution_count": 104,
   "metadata": {},
   "outputs": [
    {
     "name": "stdout",
     "output_type": "stream",
     "text": [
      "['making', 'way', 'were', 'game', 'dreams', 'better', 'who', 'haunt', 'did', 'even']\n"
     ]
    }
   ],
   "source": [
    "# this cell of code was taken from the solution at https://github.com/learn-co-curriculum/ds-word-vectorization-lab/tree/solution\n",
    "def term_frequency(BoW_dict):\n",
    "    \"\"\"\n",
    "    Takes in a bag of words dictionary and changes it to a term frequecy dictionary\n",
    "    \"\"\"\n",
    "    \n",
    "    # find total words\n",
    "    total_words = sum(BoW_dict.values())\n",
    "    \n",
    "    # populate tfs\n",
    "    for word, count in BoW_dict.items():\n",
    "        BoW_dict[word] = count/total_words\n",
    "        \n",
    "    return BoW_dict\n",
    "\n",
    "test = term_frequency(test_vectorized)\n",
    "print(list(test)[10:20])"
   ]
  },
  {
   "cell_type": "code",
   "execution_count": 105,
   "metadata": {},
   "outputs": [
    {
     "data": {
      "text/plain": [
       "{'the': 0.07883817427385892,\n",
       " 'bullet': 0.002074688796680498,\n",
       " 'mans': 0.002074688796680498,\n",
       " 'its': 0.002074688796680498,\n",
       " 'away': 0.002074688796680498,\n",
       " 'involved': 0.002074688796680498,\n",
       " '&': 0.002074688796680498,\n",
       " 'life': 0.004149377593360996,\n",
       " 'this': 0.012448132780082987,\n",
       " 'false': 0.002074688796680498,\n",
       " 'making': 0.002074688796680498,\n",
       " 'way': 0.004149377593360996,\n",
       " 'were': 0.002074688796680498,\n",
       " 'game': 0.002074688796680498,\n",
       " 'dreams': 0.012448132780082987,\n",
       " 'better': 0.002074688796680498,\n",
       " 'who': 0.004149377593360996,\n",
       " 'haunt': 0.012448132780082987,\n",
       " 'did': 0.002074688796680498,\n",
       " 'even': 0.004149377593360996,\n",
       " 'oh': 0.002074688796680498,\n",
       " 'endorsin': 0.002074688796680498,\n",
       " 'give': 0.002074688796680498,\n",
       " 'may': 0.012448132780082987,\n",
       " 'stars': 0.03734439834024896,\n",
       " 'feeling': 0.014522821576763486,\n",
       " 'tell': 0.002074688796680498,\n",
       " 'look': 0.002074688796680498,\n",
       " 'im': 0.006224066390041493,\n",
       " 'shit': 0.002074688796680498,\n",
       " 'covered': 0.002074688796680498,\n",
       " 'from': 0.002074688796680498,\n",
       " 'just': 0.004149377593360996,\n",
       " 'talkin': 0.002074688796680498,\n",
       " 'with': 0.006224066390041493,\n",
       " 'no': 0.008298755186721992,\n",
       " 'calculated': 0.002074688796680498,\n",
       " 'winnin': 0.002074688796680498,\n",
       " 'important': 0.002074688796680498,\n",
       " 'might': 0.012448132780082987,\n",
       " 'confidence': 0.002074688796680498,\n",
       " 'another': 0.004149377593360996,\n",
       " 'for': 0.014522821576763486,\n",
       " 'to': 0.012448132780082987,\n",
       " 'cant': 0.002074688796680498,\n",
       " 'expectations': 0.002074688796680498,\n",
       " 'in': 0.004149377593360996,\n",
       " 'thats': 0.004149377593360996,\n",
       " 'do': 0.016597510373443983,\n",
       " 'about': 0.006224066390041493,\n",
       " 'sword': 0.002074688796680498,\n",
       " 'corrupt': 0.002074688796680498,\n",
       " 'realest': 0.002074688796680498,\n",
       " 'ego': 0.002074688796680498,\n",
       " 'live': 0.002074688796680498,\n",
       " 'lamar': 0.002074688796680498,\n",
       " 'confrontation': 0.002074688796680498,\n",
       " 'hours': 0.002074688796680498,\n",
       " 'dont': 0.004149377593360996,\n",
       " 'wouldnt': 0.002074688796680498,\n",
       " 'feel': 0.008298755186721992,\n",
       " 'bad': 0.002074688796680498,\n",
       " 'conversation': 0.002074688796680498,\n",
       " 'time': 0.002074688796680498,\n",
       " 'want': 0.004149377593360996,\n",
       " 'recognize': 0.002074688796680498,\n",
       " 'hate': 0.002074688796680498,\n",
       " 'end': 0.002074688796680498,\n",
       " 'but': 0.002074688796680498,\n",
       " 'and': 0.012448132780082987,\n",
       " 'skin': 0.002074688796680498,\n",
       " 'all': 0.04564315352697095,\n",
       " 'prayin': 0.002074688796680498,\n",
       " 'gon': 0.002074688796680498,\n",
       " 'you': 0.07053941908713693,\n",
       " 'me': 0.029045643153526972,\n",
       " 'your': 0.01037344398340249,\n",
       " 'ya': 0.002074688796680498,\n",
       " 'new': 0.002074688796680498,\n",
       " 'rebound': 0.002074688796680498,\n",
       " 'like': 0.012448132780082987,\n",
       " 'momma': 0.002074688796680498,\n",
       " 'nothin': 0.002074688796680498,\n",
       " 'love': 0.012448132780082987,\n",
       " 'loved': 0.002074688796680498,\n",
       " 'invite': 0.002074688796680498,\n",
       " 'it': 0.014522821576763486,\n",
       " 'get': 0.004149377593360996,\n",
       " 'on': 0.002074688796680498,\n",
       " 'promises': 0.002074688796680498,\n",
       " 'can': 0.002074688796680498,\n",
       " 'buildin': 0.002074688796680498,\n",
       " 'days': 0.002074688796680498,\n",
       " 'fuck': 0.002074688796680498,\n",
       " 'if': 0.006224066390041493,\n",
       " 'percentage': 0.002074688796680498,\n",
       " 'lets': 0.006224066390041493,\n",
       " 'runnin': 0.002074688796680498,\n",
       " 'be': 0.012448132780082987,\n",
       " 'know': 0.01867219917012448,\n",
       " 'talk': 0.006224066390041493,\n",
       " 'hoped': 0.006224066390041493,\n",
       " 'or': 0.008298755186721992,\n",
       " 'find': 0.002074688796680498,\n",
       " 'wont': 0.002074688796680498,\n",
       " 'story': 0.002074688796680498,\n",
       " 'small': 0.002074688796680498,\n",
       " 'credit': 0.002074688796680498,\n",
       " 'at': 0.004149377593360996,\n",
       " 'moral': 0.002074688796680498,\n",
       " 'bring': 0.008298755186721992,\n",
       " 'my': 0.014522821576763486,\n",
       " 'dealin': 0.002074688796680498,\n",
       " 'gift': 0.002074688796680498,\n",
       " 'reason': 0.006224066390041493,\n",
       " 'that': 0.016597510373443983,\n",
       " 'truth': 0.002074688796680498,\n",
       " 'got': 0.006224066390041493,\n",
       " 'stay': 0.002074688796680498,\n",
       " 'crazy': 0.002074688796680498,\n",
       " 'is': 0.006224066390041493,\n",
       " 'cryin': 0.002074688796680498,\n",
       " 'people': 0.002074688796680498,\n",
       " 'losin': 0.002074688796680498,\n",
       " 'good': 0.002074688796680498,\n",
       " 'entitled': 0.002074688796680498,\n",
       " 'out': 0.004149377593360996,\n",
       " 'nobody': 0.002074688796680498,\n",
       " 'are': 0.01867219917012448,\n",
       " 'closer': 0.01867219917012448,\n",
       " 'heart': 0.002074688796680498,\n",
       " 'i': 0.03112033195020747,\n",
       " 'breathin': 0.002074688796680498,\n",
       " 'let': 0.012448132780082987,\n",
       " 'ever': 0.002074688796680498,\n",
       " 'anything': 0.006224066390041493,\n",
       " 'down': 0.002074688796680498,\n",
       " 'youre': 0.002074688796680498,\n",
       " 'tryna': 0.002074688796680498,\n",
       " 'of': 0.002074688796680498,\n",
       " 'aint': 0.008298755186721992,\n",
       " 'a': 0.014522821576763486,\n",
       " 'how': 0.002074688796680498,\n",
       " 'everything': 0.006224066390041493,\n",
       " 'thanks': 0.002074688796680498,\n",
       " 'kinda': 0.002074688796680498,\n",
       " 'move': 0.002074688796680498,\n",
       " 'cause': 0.004149377593360996,\n",
       " 'congratulations': 0.002074688796680498,\n",
       " 'what': 0.002074688796680498,\n",
       " 'motherfucker': 0.002074688796680498,\n",
       " 'night': 0.012448132780082987,\n",
       " 'approach': 0.01867219917012448,\n",
       " 'morgue': 0.002074688796680498}"
      ]
     },
     "execution_count": 105,
     "metadata": {},
     "output_type": "execute_result"
    }
   ],
   "source": [
    "test"
   ]
  },
  {
   "cell_type": "markdown",
   "metadata": {},
   "source": [
    "The formula for Inverse Document Frequency is:  \n",
    "<br>  \n",
    "<br>\n",
    "$$\\large  IDF(t) =  log_e(\\frac{Total\\ Number\\ of\\ Documents}{Number\\ of\\ Documents\\ with\\ t\\ in\\ it})$$\n",
    "\n",
    "Now that we have this, we can easily calculate _Inverse Document Frequency_.  In the cell below, complete the following function.  this function should take in the list of dictionaries, with each item in the list being a Bag of Words representing the words in a different song. The function should return a dictionary containing the inverse document frequency values for each word.  "
   ]
  },
  {
   "cell_type": "code",
   "execution_count": 106,
   "metadata": {},
   "outputs": [],
   "source": [
    "def inverse_document_frequency(list_of_dicts):\n",
    "    \"\"\"\n",
    "    Takes in a list of bags of words and returns a dict of each word with its inverse document frequency\n",
    "    \"\"\"\n",
    "    \n",
    "    # set vocabulary\n",
    "    vocab = []\n",
    "    for bag in list_of_dicts:\n",
    "        vocab += [x for x in bag.keys()]\n",
    "    vocab = set(vocab)\n",
    "    \n",
    "    # initialize idf dictionary\n",
    "    idfs = {}\n",
    "    \n",
    "    # find total docs\n",
    "    total_documents = len(list_of_dicts)\n",
    "    \n",
    "    # iterate through each word of vocab and count how many docs contain it\n",
    "    for word in vocab:\n",
    "        docs_with_word = sum([1 if word in doc.keys() else 0 for doc in list_of_dicts])\n",
    "        \n",
    "        # populate dict of IDFs\n",
    "        idfs[word] = np.log(total_documents/docs_with_word)\n",
    "        \n",
    "    return idfs"
   ]
  },
  {
   "cell_type": "code",
   "execution_count": 107,
   "metadata": {},
   "outputs": [],
   "source": [
    "song12 = count_vectorize(tokenize(clean_song(open('data/song12.txt').readlines())))\n",
    "song11 = test_vectorized"
   ]
  },
  {
   "cell_type": "code",
   "execution_count": 108,
   "metadata": {},
   "outputs": [
    {
     "data": {
      "text/plain": [
       "{'alone': 0.6931471805599453,\n",
       " 'the': 0.0,\n",
       " 'bullet': 0.6931471805599453,\n",
       " 'nowhere': 0.6931471805599453,\n",
       " 'mans': 0.6931471805599453,\n",
       " 'its': 0.6931471805599453,\n",
       " 'away': 0.6931471805599453,\n",
       " 'involved': 0.6931471805599453,\n",
       " '&': 0.6931471805599453,\n",
       " 'beams': 0.6931471805599453,\n",
       " 'life': 0.6931471805599453,\n",
       " 'she': 0.6931471805599453,\n",
       " 'over': 0.6931471805599453,\n",
       " 'this': 0.6931471805599453,\n",
       " 'false': 0.6931471805599453,\n",
       " 'making': 0.6931471805599453,\n",
       " 'way': 0.0,\n",
       " 'right': 0.6931471805599453,\n",
       " 'go': 0.6931471805599453,\n",
       " 'were': 0.6931471805599453,\n",
       " 'game': 0.6931471805599453,\n",
       " 'swear': 0.6931471805599453,\n",
       " 'ayy': 0.6931471805599453,\n",
       " 'castin': 0.6931471805599453,\n",
       " 'dreams': 0.6931471805599453,\n",
       " 'better': 0.6931471805599453,\n",
       " 'who': 0.6931471805599453,\n",
       " 'haunt': 0.6931471805599453,\n",
       " 'fly': 0.6931471805599453,\n",
       " 'did': 0.6931471805599453,\n",
       " 'even': 0.6931471805599453,\n",
       " 'there': 0.6931471805599453,\n",
       " 'oh': 0.6931471805599453,\n",
       " 'endorsin': 0.6931471805599453,\n",
       " 'body': 0.6931471805599453,\n",
       " 'everywhere': 0.6931471805599453,\n",
       " 'may': 0.6931471805599453,\n",
       " 'stars': 0.6931471805599453,\n",
       " 'feeling': 0.6931471805599453,\n",
       " 'tell': 0.6931471805599453,\n",
       " 'look': 0.6931471805599453,\n",
       " 'im': 0.0,\n",
       " 'shit': 0.6931471805599453,\n",
       " 'covered': 0.6931471805599453,\n",
       " 'from': 0.6931471805599453,\n",
       " 'just': 0.6931471805599453,\n",
       " 'talkin': 0.6931471805599453,\n",
       " 'wan': 0.6931471805599453,\n",
       " 'with': 0.6931471805599453,\n",
       " 'so': 0.6931471805599453,\n",
       " 'mind': 0.6931471805599453,\n",
       " 'no': 0.0,\n",
       " 'calculated': 0.6931471805599453,\n",
       " 'winnin': 0.6931471805599453,\n",
       " 'know-ow': 0.6931471805599453,\n",
       " 'dust': 0.6931471805599453,\n",
       " 'fucked': 0.6931471805599453,\n",
       " 'important': 0.6931471805599453,\n",
       " 'might': 0.6931471805599453,\n",
       " 'niggas': 0.6931471805599453,\n",
       " 'confidence': 0.6931471805599453,\n",
       " 'views': 0.6931471805599453,\n",
       " 'safe': 0.6931471805599453,\n",
       " 'another': 0.6931471805599453,\n",
       " 'for': 0.0,\n",
       " 'to': 0.0,\n",
       " 'cant': 0.0,\n",
       " 'expectations': 0.6931471805599453,\n",
       " 'in': 0.0,\n",
       " 'thats': 0.6931471805599453,\n",
       " 'day': 0.6931471805599453,\n",
       " ')': 0.6931471805599453,\n",
       " 'do': 0.0,\n",
       " 'about': 0.0,\n",
       " 'sword': 0.6931471805599453,\n",
       " 'corrupt': 0.6931471805599453,\n",
       " 'realest': 0.6931471805599453,\n",
       " 'ego': 0.6931471805599453,\n",
       " 'live': 0.6931471805599453,\n",
       " 'lamar': 0.6931471805599453,\n",
       " 'we': 0.6931471805599453,\n",
       " 'had': 0.6931471805599453,\n",
       " 'confrontation': 0.6931471805599453,\n",
       " 'hours': 0.6931471805599453,\n",
       " 'dont': 0.0,\n",
       " 'wouldnt': 0.6931471805599453,\n",
       " 'ill': 0.6931471805599453,\n",
       " 'feel': 0.6931471805599453,\n",
       " 'bad': 0.6931471805599453,\n",
       " 'makin': 0.6931471805599453,\n",
       " 'conversation': 0.6931471805599453,\n",
       " 'time': 0.6931471805599453,\n",
       " 'want': 0.6931471805599453,\n",
       " 'recognize': 0.6931471805599453,\n",
       " 'hate': 0.6931471805599453,\n",
       " 'end': 0.6931471805599453,\n",
       " 'but': 0.0,\n",
       " 'and': 0.0,\n",
       " 'kendrick': 0.6931471805599453,\n",
       " 'skin': 0.6931471805599453,\n",
       " 'all': 0.0,\n",
       " 'prayin': 0.6931471805599453,\n",
       " 'gon': 0.0,\n",
       " 'you': 0.0,\n",
       " 'pick': 0.6931471805599453,\n",
       " 'me': 0.0,\n",
       " 'see': 0.6931471805599453,\n",
       " 'up': 0.6931471805599453,\n",
       " 'your': 0.0,\n",
       " 'ya': 0.0,\n",
       " 'workin': 0.6931471805599453,\n",
       " 'anywhere': 0.6931471805599453,\n",
       " 'turned': 0.6931471805599453,\n",
       " 'new': 0.6931471805599453,\n",
       " 'rebound': 0.6931471805599453,\n",
       " 'like': 0.0,\n",
       " 'through': 0.6931471805599453,\n",
       " 'momma': 0.6931471805599453,\n",
       " 'our': 0.6931471805599453,\n",
       " 'still': 0.6931471805599453,\n",
       " 'nothin': 0.6931471805599453,\n",
       " 'city': 0.6931471805599453,\n",
       " 'love': 0.0,\n",
       " 'loved': 0.6931471805599453,\n",
       " 'invite': 0.6931471805599453,\n",
       " '(': 0.6931471805599453,\n",
       " 'lose': 0.6931471805599453,\n",
       " 'it': 0.0,\n",
       " 'get': 0.6931471805599453,\n",
       " 'vibrant': 0.6931471805599453,\n",
       " 'doin': 0.6931471805599453,\n",
       " 'on': 0.0,\n",
       " 'easy': 0.6931471805599453,\n",
       " 'promises': 0.6931471805599453,\n",
       " 'can': 0.0,\n",
       " 'buildin': 0.6931471805599453,\n",
       " 'days': 0.6931471805599453,\n",
       " 'fuck': 0.6931471805599453,\n",
       " 'if': 0.0,\n",
       " 'percentage': 0.6931471805599453,\n",
       " 'lets': 0.6931471805599453,\n",
       " 'off': 0.6931471805599453,\n",
       " 'been': 0.6931471805599453,\n",
       " 'show': 0.6931471805599453,\n",
       " 'runnin': 0.0,\n",
       " 'be': 0.0,\n",
       " 'know': 0.0,\n",
       " 'talk': 0.0,\n",
       " 'hoped': 0.6931471805599453,\n",
       " 'or': 0.6931471805599453,\n",
       " 'find': 0.6931471805599453,\n",
       " 'wont': 0.6931471805599453,\n",
       " 'story': 0.6931471805599453,\n",
       " 'small': 0.6931471805599453,\n",
       " 'credit': 0.6931471805599453,\n",
       " 'at': 0.6931471805599453,\n",
       " 'moral': 0.6931471805599453,\n",
       " 'bring': 0.6931471805599453,\n",
       " 'my': 0.0,\n",
       " 'dealin': 0.6931471805599453,\n",
       " 'nigga': 0.6931471805599453,\n",
       " 'gift': 0.6931471805599453,\n",
       " 'reason': 0.6931471805599453,\n",
       " 'section': 0.6931471805599453,\n",
       " 'that': 0.0,\n",
       " 'truth': 0.6931471805599453,\n",
       " 'got': 0.6931471805599453,\n",
       " 'bet': 0.6931471805599453,\n",
       " 'know-ow-ow': 0.6931471805599453,\n",
       " 'stay': 0.6931471805599453,\n",
       " 'need': 0.6931471805599453,\n",
       " 'really': 0.6931471805599453,\n",
       " 'shes': 0.6931471805599453,\n",
       " 'crazy': 0.6931471805599453,\n",
       " 'lee': 0.6931471805599453,\n",
       " 'contribution': 0.6931471805599453,\n",
       " 'have': 0.6931471805599453,\n",
       " 'never': 0.6931471805599453,\n",
       " 'one': 0.6931471805599453,\n",
       " 'id': 0.6931471805599453,\n",
       " 'is': 0.0,\n",
       " 'goin': 0.6931471805599453,\n",
       " 'here': 0.6931471805599453,\n",
       " 'cryin': 0.6931471805599453,\n",
       " 'carryin': 0.6931471805599453,\n",
       " 'people': 0.6931471805599453,\n",
       " 'losin': 0.6931471805599453,\n",
       " 'good': 0.6931471805599453,\n",
       " 'na': 0.6931471805599453,\n",
       " 'take': 0.6931471805599453,\n",
       " 'entitled': 0.6931471805599453,\n",
       " 'out': 0.0,\n",
       " 'nobody': 0.6931471805599453,\n",
       " 'approach': 0.6931471805599453,\n",
       " 'somethin': 0.6931471805599453,\n",
       " 'are': 0.6931471805599453,\n",
       " 'closer': 0.6931471805599453,\n",
       " 'heart': 0.6931471805599453,\n",
       " 'i': 0.0,\n",
       " 'breathin': 0.6931471805599453,\n",
       " 'let': 0.0,\n",
       " 'ever': 0.6931471805599453,\n",
       " 'anything': 0.6931471805599453,\n",
       " 'down': 0.0,\n",
       " 'youre': 0.6931471805599453,\n",
       " 'movin': 0.6931471805599453,\n",
       " 'fall': 0.6931471805599453,\n",
       " 'many': 0.6931471805599453,\n",
       " 'uh': 0.6931471805599453,\n",
       " 'tryna': 0.6931471805599453,\n",
       " 'of': 0.0,\n",
       " 'yeah': 0.6931471805599453,\n",
       " 'aint': 0.6931471805599453,\n",
       " 'a': 0.0,\n",
       " 'how': 0.0,\n",
       " 'ways': 0.6931471805599453,\n",
       " 'everything': 0.6931471805599453,\n",
       " 'thanks': 0.6931471805599453,\n",
       " 'them': 0.6931471805599453,\n",
       " 'kinda': 0.6931471805599453,\n",
       " 'move': 0.0,\n",
       " 'cause': 0.6931471805599453,\n",
       " 'congratulations': 0.6931471805599453,\n",
       " 'what': 0.0,\n",
       " 'radion': 0.6931471805599453,\n",
       " 'some': 0.6931471805599453,\n",
       " 'motherfucker': 0.6931471805599453,\n",
       " 'travel': 0.6931471805599453,\n",
       " 'only': 0.6931471805599453,\n",
       " 'most': 0.6931471805599453,\n",
       " 'night': 0.6931471805599453,\n",
       " 'why': 0.6931471805599453,\n",
       " 'power': 0.6931471805599453,\n",
       " 'sure': 0.6931471805599453,\n",
       " 'brother': 0.6931471805599453,\n",
       " 'when': 0.6931471805599453,\n",
       " 'girl': 0.6931471805599453,\n",
       " 'give': 0.0,\n",
       " 'morgue': 0.6931471805599453,\n",
       " 'times': 0.6931471805599453}"
      ]
     },
     "execution_count": 108,
     "metadata": {},
     "output_type": "execute_result"
    }
   ],
   "source": [
    "inverse_document_frequency([song11, song12])"
   ]
  },
  {
   "cell_type": "markdown",
   "metadata": {},
   "source": [
    "### Computing TF-IDF\n",
    "\n",
    "Now that we can compute both Term Frequency and Inverse Document Frequency, computing an overall TF-IDF value is simple! All we need to do is multiply the two values.  \n",
    "\n",
    "In the cell below, complete the `tf_idf()` function.  This function should take in a list of dictionaries, just as the `inverse_document_frequency()` function did.  This function return a new list of dictionaries, with each dictionary containing the tf-idf vectorized representation of a corresponding song document. \n",
    "\n",
    "**_NOTE:_** Each document should contain the full vocabulary of the entire combined corpus.  "
   ]
  },
  {
   "cell_type": "code",
   "execution_count": 138,
   "metadata": {},
   "outputs": [],
   "source": [
    "def tf_idf(list_of_dicts):\n",
    "    \"\"\"\n",
    "    Takes in a list of bags of words and outputs a TF-IDF dictionary for each bag\n",
    "    \"\"\"\n",
    "    \n",
    "    \n",
    "    # set vocabulary\n",
    "    vocab = []\n",
    "    for bag in list_of_dicts:\n",
    "        vocab += [x for x in bag.keys()]\n",
    "    vocab = set(vocab)\n",
    "    \n",
    "    # find IDF\n",
    "    idf = inverse_document_frequency(list_of_dicts)\n",
    "    \n",
    "    # iterate through each bag\n",
    "    for bag in list_of_dicts:\n",
    "        \n",
    "        \n",
    "        # find TF of words in bag\n",
    "        tf = term_frequency(bag)          \n",
    "        \n",
    "        # iterate through vocab\n",
    "        for word in vocab:\n",
    "            if word not in bag.keys():\n",
    "                bag[word] = 0\n",
    "            bag[word] = tf[word] * idf[word]\n",
    "            \n",
    "    return list_of_dicts"
   ]
  },
  {
   "cell_type": "markdown",
   "metadata": {},
   "source": [
    "### Vectorizing All Documents\n",
    "\n",
    "Now that we've created all the necessary helper functions, we can load in all of our documents and run each through the vectorization pipeline we've just created.\n",
    "\n",
    "In the cell below, complete the `main` function.  This function should take in a list of file names (provided for you in the `filenames` list we created at the start), and then:\n",
    "\n",
    "1. Read in each document\n",
    "1. Tokenize each document\n",
    "1. Convert each document to a Bag of Words (dictionary representation)\n",
    "1. Return a list of dictionaries vectorized using tf-idf, where each dictionary is a vectorized representation of a document.  \n",
    "\n",
    "**_HINT:_** Remember that all files are stored in the `data/` directory.  Be sure to append this to the filename when reading in each file, otherwise the path won't be correct!"
   ]
  },
  {
   "cell_type": "code",
   "execution_count": 139,
   "metadata": {},
   "outputs": [
    {
     "name": "stdout",
     "output_type": "stream",
     "text": [
      "['he', 'the', 'bullet', 'rolled', 'together', 'they', 'ride', 'sea', 'bed', 'big']\n"
     ]
    }
   ],
   "source": [
    "def main(filenames):\n",
    "    \n",
    "    # initiate list of dicts\n",
    "    list_of_dicts = []\n",
    "    \n",
    "    # populate list of dicts\n",
    "    for file in filenames:\n",
    "        song = open(file).readlines()\n",
    "        \n",
    "        # clean song\n",
    "        song = clean_song(song)\n",
    "        \n",
    "        # tokenize song\n",
    "        song = tokenize(song)\n",
    "        \n",
    "        # create a BoW\n",
    "        song = count_vectorize(song)\n",
    "        \n",
    "        # append song to list of dicts\n",
    "        list_of_dicts.append(song)\n",
    "        \n",
    "    # find TF-IDF of list of dicts and return\n",
    "    return tf_idf(list_of_dicts)\n",
    "\n",
    "\n",
    "tf_idf_all_docs = main(filenames)\n",
    "print(list(tf_idf_all_docs[0])[:10])"
   ]
  },
  {
   "cell_type": "markdown",
   "metadata": {},
   "source": [
    "### Visualizing our Vectorizations\n",
    "\n",
    "Now that we have a tf-idf representation each document, we can move on to the fun part--visualizing everything!\n",
    "\n",
    "Let's investigate how many dimensions our data currently has.  In the cell below, examine our dataset to figure out how many dimensions our dataset has. \n",
    "\n",
    "**_HINT_**: Remember that every word is it's own dimension!"
   ]
  },
  {
   "cell_type": "code",
   "execution_count": 140,
   "metadata": {},
   "outputs": [
    {
     "name": "stdout",
     "output_type": "stream",
     "text": [
      "Number of Dimensions: 1354\n"
     ]
    }
   ],
   "source": [
    "num_dims = len(tf_idf_all_docs[0])\n",
    "print(\"Number of Dimensions: {}\".format(num_dims))"
   ]
  },
  {
   "cell_type": "markdown",
   "metadata": {},
   "source": [
    "That's much too high-dimensional for us to visualize! In order to make it understandable to human eyes, we'll need to reduce dimensionality to 2 or 3 dimensions.  \n",
    "\n",
    "### Reducing Dimensionality\n",
    "\n",
    "To do this, we'll use a technique called **_t-SNE_** (short for _t-Stochastic Neighbors Embedding_).  This is too complex for us to code ourselves, so we'll make use of sklearn's implementation of it.  \n",
    "\n",
    "First, we need to pull the words out of the dictionaries stored in `tf_idf_all_docs` so that only the values remain, and store them in lists instead of dictionaries.  This is because the t-SNE object only works with Array-like objects, not dictionaries.  \n",
    "\n",
    "In the cell below, create a list of lists that contains a list representation of the values of each of the dictionaries stored in `tf_idf_all_docs`.  The same structure should remain--e.g. the first list should contain only the values that were in the 1st dictionary in `tf_idf_all_docs`, and so on. "
   ]
  },
  {
   "cell_type": "code",
   "execution_count": 141,
   "metadata": {},
   "outputs": [
    {
     "data": {
      "text/plain": [
       "[0.012679521595608754,\n",
       " 0.011891628987642068,\n",
       " 0.007020076503030628,\n",
       " 0.007020076503030628,\n",
       " 0.007020076503030628,\n",
       " 0.005468021348374577,\n",
       " 0.0057839023929447606,\n",
       " 0.027399990306896257,\n",
       " 0.009133330102298753,\n",
       " 0.004226507198536252]"
      ]
     },
     "execution_count": 141,
     "metadata": {},
     "output_type": "execute_result"
    }
   ],
   "source": [
    "tf_idf_vals_list = []\n",
    "\n",
    "for i in tf_idf_all_docs:\n",
    "    tf_idf_vals_list.append(list(i.values()))\n",
    "    \n",
    "tf_idf_vals_list[0][:10]"
   ]
  },
  {
   "cell_type": "markdown",
   "metadata": {},
   "source": [
    "Now that we have only the values, we can use the `TSNE` object from `sklearn` to transform our data appropriately.  In the cell below, create a `TSNE` with `n_components=3` passed in as a parameter.  Then, use the created object's `fit_transform()` method to transform the data stored in `tf_idf_vals_list` into 3-dimensional data.  Then, inspect the newly transformed data to confirm that it has the correct dimensionality. "
   ]
  },
  {
   "cell_type": "code",
   "execution_count": 143,
   "metadata": {},
   "outputs": [
    {
     "data": {
      "text/plain": [
       "array([[ 2.92908535e+01,  1.74317322e+01, -1.87470749e+02],\n",
       "       [ 9.28425074e-01, -1.33354630e+02,  4.63854095e+02],\n",
       "       [-1.93595306e+02,  1.73284424e+02, -1.68494705e+02],\n",
       "       [-5.60602760e+00,  9.21715393e+01,  2.96807892e+02],\n",
       "       [-8.65109558e+02, -4.04922791e+02, -1.42752151e+02],\n",
       "       [ 3.96140930e+02,  2.02479767e+02,  1.43874008e+02],\n",
       "       [-9.79469833e+01,  4.40215088e+02,  2.95095291e+01],\n",
       "       [ 9.36921082e+01,  7.53213310e+00,  7.43407440e+01],\n",
       "       [-1.01758064e+02, -1.93449127e+02, -1.40898941e+02],\n",
       "       [-2.04057007e+02,  7.00219574e+01,  8.56777267e+01],\n",
       "       [-7.31815796e+01, -1.88097397e+02,  1.58752731e+02],\n",
       "       [ 2.89154602e+02,  1.23359322e+02, -8.25090408e+01],\n",
       "       [ 8.51350937e+01, -3.41464600e+02, -1.79769821e+01],\n",
       "       [-6.40253496e+00, -7.38377563e+02, -1.69290878e+02],\n",
       "       [ 9.70672073e+01,  1.06077026e+03,  3.01979797e+02],\n",
       "       [-3.44057526e+02, -1.42752960e+02, -9.51607819e+01],\n",
       "       [ 2.89701599e+02, -1.48330399e+02,  1.39231430e+02],\n",
       "       [ 6.09905357e+01,  2.54839920e+02,  1.21151743e+01],\n",
       "       [ 3.20612297e+01,  1.97196762e+02, -3.55609344e+02],\n",
       "       [ 2.30083664e+02, -1.51003662e+02, -1.66841232e+02]], dtype=float32)"
      ]
     },
     "execution_count": 143,
     "metadata": {},
     "output_type": "execute_result"
    }
   ],
   "source": [
    "t_sne_object_3d = TSNE(n_components = 3)\n",
    "transformed_data_3d = t_sne_object_3d.fit_transform(tf_idf_vals_list)\n",
    "transformed_data_3d"
   ]
  },
  {
   "cell_type": "markdown",
   "metadata": {},
   "source": [
    "We'll also want to check out how the visualization looks in 2d.  Repeat the process above, but this time, create a `TSNE` object with 2 components instead of 3.  Again, use `fit_transform()` to transform the data and store it in the variable below, and then inspect it to confirm the transformed data has only 2 dimensions. "
   ]
  },
  {
   "cell_type": "code",
   "execution_count": 144,
   "metadata": {},
   "outputs": [
    {
     "data": {
      "text/plain": [
       "array([[-31.854147 ,  19.945538 ],\n",
       "       [  3.1092677,  39.38738  ],\n",
       "       [ 13.044284 , -81.79001  ],\n",
       "       [ 16.479147 , -18.800865 ],\n",
       "       [-91.74236  ,  -9.827908 ],\n",
       "       [-58.123592 , -71.91415  ],\n",
       "       [ 33.52853  , -49.298805 ],\n",
       "       [ 49.310562 , -14.726378 ],\n",
       "       [ 29.197433 ,  16.443098 ],\n",
       "       [-58.5526   , -29.701736 ],\n",
       "       [ -4.4872656,   5.6888094],\n",
       "       [-62.513138 ,   4.1440306],\n",
       "       [-24.147497 , -81.60875  ],\n",
       "       [-12.415021 , -24.957592 ],\n",
       "       [-35.64206  , -10.120325 ],\n",
       "       [-33.78609  , -47.520313 ],\n",
       "       [-85.33202  , -48.463715 ],\n",
       "       [-30.957937 ,  52.19335  ],\n",
       "       [ -1.5366457, -52.175205 ],\n",
       "       [-67.69252  ,  36.042847 ]], dtype=float32)"
      ]
     },
     "execution_count": 144,
     "metadata": {},
     "output_type": "execute_result"
    }
   ],
   "source": [
    "t_sne_object_2d = TSNE(n_components=2)\n",
    "transformed_data_2d = t_sne_object_2d.fit_transform(tf_idf_vals_list)\n",
    "transformed_data_2d"
   ]
  },
  {
   "cell_type": "markdown",
   "metadata": {},
   "source": [
    "Now, let's visualize everything!  Run the cell below to a 3D visualization of the songs."
   ]
  },
  {
   "cell_type": "code",
   "execution_count": 145,
   "metadata": {},
   "outputs": [
    {
     "data": {
      "image/png": "[encoded data removed]",
      "text/plain": [
       "<Figure size 1440x720 with 1 Axes>"
      ]
     },
     "metadata": {
      "needs_background": "light"
     },
     "output_type": "display_data"
    },
    {
     "data": {
      "image/png": "[encoded data removed]",
      "text/plain": [
       "<Figure size 1440x720 with 1 Axes>"
      ]
     },
     "metadata": {
      "needs_background": "light"
     },
     "output_type": "display_data"
    }
   ],
   "source": [
    "kendrick_3d = transformed_data_3d[:10]\n",
    "k3_x = [i[0] for i in kendrick_3d]\n",
    "k3_y = [i[1] for i in kendrick_3d]\n",
    "k3_z = [i[2] for i in kendrick_3d]\n",
    "\n",
    "garth_3d = transformed_data_3d[10:]\n",
    "g3_x = [i[0] for i in garth_3d]\n",
    "g3_y = [i[1] for i in garth_3d]\n",
    "g3_z = [i[2] for i in garth_3d]\n",
    "\n",
    "fig = plt.figure(figsize=(20,10))\n",
    "ax = fig.add_subplot(111, projection='3d')\n",
    "ax.scatter(k3_x, k3_y, k3_z, c='b', s=60, label='Kendrick')\n",
    "ax.scatter(g3_x, g3_y, g3_z, c='red', s=60, label='Garth')\n",
    "ax.view_init(30, 10)\n",
    "ax.legend()\n",
    "plt.show()\n",
    "\n",
    "kendrick_2d = transformed_data_2d[:10]\n",
    "k2_x = [i[0] for i in kendrick_2d]\n",
    "k2_y = [i[1] for i in kendrick_2d]\n",
    "\n",
    "garth_2d = transformed_data_2d[10:]\n",
    "g2_x = [i[0] for i in garth_2d]\n",
    "g2_y = [i[1] for i in garth_2d]\n",
    "\n",
    "fig = plt.figure(figsize=(20,10))\n",
    "ax = fig.add_subplot(222)\n",
    "ax.scatter(k2_x, k2_y, c='b', label='Kendrick')\n",
    "ax.scatter(g2_x, g2_y, c='red', label='Garth')\n",
    "ax.legend()\n",
    "plt.show()"
   ]
  },
  {
   "cell_type": "markdown",
   "metadata": {},
   "source": [
    "Interesting! Take a crack at interpreting these graphs by answering the following question below:\n",
    "\n",
    "What does each graph mean? Do you find one graph more informative than the other? Do you think that this method shows us discernable differences between Kendrick Lamar songs and Garth Brooks songs?  Use the graphs and your understanding of TF-IDF to support your answer.  \n",
    "\n",
    "Write your answer to this question below:  "
   ]
  },
  {
   "cell_type": "code",
   "execution_count": 147,
   "metadata": {},
   "outputs": [],
   "source": [
    "# The graphs show the correlation between songs\n",
    "# In the 2D visualization the songs seem inseperable, but in the 3D graph it looks like they could be seperated on the z axis"
   ]
  },
  {
   "cell_type": "markdown",
   "metadata": {},
   "source": [
    "### Conclusion\n",
    "\n",
    "In this lab, we learned how to: \n",
    "* Tokenize a corpus of words and identify the different choices to be made while parsing them. \n",
    "* Use a Count Vectorization strategy to create a Bag of Words\n",
    "* Use TF-IDF Vectorization with multiple documents to identify words that are important/unique to certain documents. \n",
    "* Visualize and compare vectorized text documents."
   ]
  }
 ],
 "metadata": {
  "kernelspec": {
   "display_name": "Python 3",
   "language": "python",
   "name": "python3"
  },
  "language_info": {
   "codemirror_mode": {
    "name": "ipython",
    "version": 3
   },
   "file_extension": ".py",
   "mimetype": "text/x-python",
   "name": "python",
   "nbconvert_exporter": "python",
   "pygments_lexer": "ipython3",
   "version": "3.7.3"
  },
  "nbdime-conflicts": {
   "local_diff": [
    {
     "key": "language_info",
     "op": "remove"
    }
   ],
   "remote_diff": [
    {
     "diff": [
      {
       "diff": [
        {
         "key": 0,
         "op": "addrange",
         "valuelist": [
          "3.7.3"
         ]
        },
        {
         "key": 0,
         "length": 1,
         "op": "removerange"
        }
       ],
       "key": "version",
       "op": "patch"
      }
     ],
     "key": "language_info",
     "op": "patch"
    }
   ]
  },
  "toc": {
   "base_numbering": 1,
   "nav_menu": {},
   "number_sections": true,
   "sideBar": true,
   "skip_h1_title": false,
   "title_cell": "Table of Contents",
   "title_sidebar": "Contents",
   "toc_cell": false,
   "toc_position": {},
   "toc_section_display": true,
   "toc_window_display": false
  }
 },
 "nbformat": 4,
 "nbformat_minor": 2
}
